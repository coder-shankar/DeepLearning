{
 "cells": [
  {
   "cell_type": "code",
   "execution_count": 11,
   "metadata": {},
   "outputs": [
    {
     "data": {
      "text/html": [
       "<div>\n",
       "<style scoped>\n",
       "    .dataframe tbody tr th:only-of-type {\n",
       "        vertical-align: middle;\n",
       "    }\n",
       "\n",
       "    .dataframe tbody tr th {\n",
       "        vertical-align: top;\n",
       "    }\n",
       "\n",
       "    .dataframe thead th {\n",
       "        text-align: right;\n",
       "    }\n",
       "</style>\n",
       "<table border=\"1\" class=\"dataframe\">\n",
       "  <thead>\n",
       "    <tr style=\"text-align: right;\">\n",
       "      <th></th>\n",
       "      <th>Awards</th>\n",
       "      <th>Country</th>\n",
       "      <th>DVD</th>\n",
       "      <th>Director</th>\n",
       "      <th>Language</th>\n",
       "      <th>Plot</th>\n",
       "      <th>Poster</th>\n",
       "      <th>Production</th>\n",
       "      <th>Rated</th>\n",
       "      <th>Released</th>\n",
       "      <th>Runtime</th>\n",
       "      <th>Title</th>\n",
       "      <th>Type</th>\n",
       "      <th>Website</th>\n",
       "      <th>Year</th>\n",
       "      <th>imdbID</th>\n",
       "      <th>imdbRating</th>\n",
       "      <th>imdbVotes</th>\n",
       "    </tr>\n",
       "  </thead>\n",
       "  <tbody>\n",
       "    <tr>\n",
       "      <th>178682</th>\n",
       "      <td>Nominated for 1 Oscar. Another 7 wins &amp; 13 nom...</td>\n",
       "      <td>Germany, USA</td>\n",
       "      <td>18 Apr 2000</td>\n",
       "      <td>Rob Minkoff</td>\n",
       "      <td>English, Dutch</td>\n",
       "      <td>The Little family adopt a charming young mouse...</td>\n",
       "      <td>https://images-na.ssl-images-amazon.com/images...</td>\n",
       "      <td>Columbia Pictures</td>\n",
       "      <td>PG</td>\n",
       "      <td>17 Dec 1999</td>\n",
       "      <td>84 min</td>\n",
       "      <td>Stuart Little</td>\n",
       "      <td>movie</td>\n",
       "      <td>http://www.spe.sony.com/movies/stuartlittle/sp...</td>\n",
       "      <td>1999</td>\n",
       "      <td>tt0164912</td>\n",
       "      <td>5.9</td>\n",
       "      <td>106,665</td>\n",
       "    </tr>\n",
       "    <tr>\n",
       "      <th>178683</th>\n",
       "      <td>3 wins &amp; 9 nominations.</td>\n",
       "      <td>USA</td>\n",
       "      <td>05 Sep 2000</td>\n",
       "      <td>Oliver Stone</td>\n",
       "      <td>English</td>\n",
       "      <td>A behind-the-scenes look at the life-and-death...</td>\n",
       "      <td>https://ia.media-imdb.com/images/M/MV5BZDk2YTQ...</td>\n",
       "      <td>Warner Bros. Pictures</td>\n",
       "      <td>R</td>\n",
       "      <td>22 Dec 1999</td>\n",
       "      <td>162 min</td>\n",
       "      <td>Any Given Sunday</td>\n",
       "      <td>movie</td>\n",
       "      <td>http://www.anygivensunday.net</td>\n",
       "      <td>1999</td>\n",
       "      <td>tt0146838</td>\n",
       "      <td>6.8</td>\n",
       "      <td>103,302</td>\n",
       "    </tr>\n",
       "    <tr>\n",
       "      <th>178684</th>\n",
       "      <td>Won 1 Golden Globe. Another 4 wins &amp; 23 nomina...</td>\n",
       "      <td>UK, Germany, Japan, USA</td>\n",
       "      <td>30 May 2000</td>\n",
       "      <td>Milos Forman</td>\n",
       "      <td>English</td>\n",
       "      <td>The life and career of a legendary comedian, A...</td>\n",
       "      <td>https://ia.media-imdb.com/images/M/MV5BNDI1Mjc...</td>\n",
       "      <td>Universal</td>\n",
       "      <td>R</td>\n",
       "      <td>22 Dec 1999</td>\n",
       "      <td>118 min</td>\n",
       "      <td>Man on the Moon</td>\n",
       "      <td>movie</td>\n",
       "      <td>http://www.universalpictures.com/manonthemoon</td>\n",
       "      <td>1999</td>\n",
       "      <td>tt0125664</td>\n",
       "      <td>7.4</td>\n",
       "      <td>110,566</td>\n",
       "    </tr>\n",
       "    <tr>\n",
       "      <th>178685</th>\n",
       "      <td>7 wins &amp; 14 nominations.</td>\n",
       "      <td>USA</td>\n",
       "      <td>02 May 2000</td>\n",
       "      <td>Dean Parisot</td>\n",
       "      <td>English</td>\n",
       "      <td>The alumni cast of a space opera television se...</td>\n",
       "      <td>https://ia.media-imdb.com/images/M/MV5BNmZlNTY...</td>\n",
       "      <td>DreamWorks SKG</td>\n",
       "      <td>PG</td>\n",
       "      <td>25 Dec 1999</td>\n",
       "      <td>102 min</td>\n",
       "      <td>Galaxy Quest</td>\n",
       "      <td>movie</td>\n",
       "      <td>http://www.amazon.com/exec/obidos/subst/video/...</td>\n",
       "      <td>1999</td>\n",
       "      <td>tt0177789</td>\n",
       "      <td>7.3</td>\n",
       "      <td>132,448</td>\n",
       "    </tr>\n",
       "    <tr>\n",
       "      <th>178686</th>\n",
       "      <td>Nominated for 5 Oscars. Another 10 wins &amp; 75 n...</td>\n",
       "      <td>USA</td>\n",
       "      <td>27 Jun 2000</td>\n",
       "      <td>Anthony Minghella</td>\n",
       "      <td>English, Italian</td>\n",
       "      <td>In late 1950s New York, Tom Ripley, a young un...</td>\n",
       "      <td>https://images-na.ssl-images-amazon.com/images...</td>\n",
       "      <td>Paramount Pictures</td>\n",
       "      <td>R</td>\n",
       "      <td>25 Dec 1999</td>\n",
       "      <td>139 min</td>\n",
       "      <td>The Talented Mr. Ripley</td>\n",
       "      <td>movie</td>\n",
       "      <td>http://www.talentedmrripley.com</td>\n",
       "      <td>1999</td>\n",
       "      <td>tt0134119</td>\n",
       "      <td>7.4</td>\n",
       "      <td>151,938</td>\n",
       "    </tr>\n",
       "  </tbody>\n",
       "</table>\n",
       "</div>"
      ],
      "text/plain": [
       "                                                   Awards  \\\n",
       "178682  Nominated for 1 Oscar. Another 7 wins & 13 nom...   \n",
       "178683                            3 wins & 9 nominations.   \n",
       "178684  Won 1 Golden Globe. Another 4 wins & 23 nomina...   \n",
       "178685                           7 wins & 14 nominations.   \n",
       "178686  Nominated for 5 Oscars. Another 10 wins & 75 n...   \n",
       "\n",
       "                        Country          DVD           Director  \\\n",
       "178682             Germany, USA  18 Apr 2000        Rob Minkoff   \n",
       "178683                      USA  05 Sep 2000       Oliver Stone   \n",
       "178684  UK, Germany, Japan, USA  30 May 2000       Milos Forman   \n",
       "178685                      USA  02 May 2000       Dean Parisot   \n",
       "178686                      USA  27 Jun 2000  Anthony Minghella   \n",
       "\n",
       "                Language                                               Plot  \\\n",
       "178682    English, Dutch  The Little family adopt a charming young mouse...   \n",
       "178683           English  A behind-the-scenes look at the life-and-death...   \n",
       "178684           English  The life and career of a legendary comedian, A...   \n",
       "178685           English  The alumni cast of a space opera television se...   \n",
       "178686  English, Italian  In late 1950s New York, Tom Ripley, a young un...   \n",
       "\n",
       "                                                   Poster  \\\n",
       "178682  https://images-na.ssl-images-amazon.com/images...   \n",
       "178683  https://ia.media-imdb.com/images/M/MV5BZDk2YTQ...   \n",
       "178684  https://ia.media-imdb.com/images/M/MV5BNDI1Mjc...   \n",
       "178685  https://ia.media-imdb.com/images/M/MV5BNmZlNTY...   \n",
       "178686  https://images-na.ssl-images-amazon.com/images...   \n",
       "\n",
       "                   Production Rated     Released  Runtime  \\\n",
       "178682      Columbia Pictures    PG  17 Dec 1999   84 min   \n",
       "178683  Warner Bros. Pictures     R  22 Dec 1999  162 min   \n",
       "178684              Universal     R  22 Dec 1999  118 min   \n",
       "178685         DreamWorks SKG    PG  25 Dec 1999  102 min   \n",
       "178686     Paramount Pictures     R  25 Dec 1999  139 min   \n",
       "\n",
       "                          Title   Type  \\\n",
       "178682            Stuart Little  movie   \n",
       "178683         Any Given Sunday  movie   \n",
       "178684          Man on the Moon  movie   \n",
       "178685             Galaxy Quest  movie   \n",
       "178686  The Talented Mr. Ripley  movie   \n",
       "\n",
       "                                                  Website  Year     imdbID  \\\n",
       "178682  http://www.spe.sony.com/movies/stuartlittle/sp...  1999  tt0164912   \n",
       "178683                      http://www.anygivensunday.net  1999  tt0146838   \n",
       "178684      http://www.universalpictures.com/manonthemoon  1999  tt0125664   \n",
       "178685  http://www.amazon.com/exec/obidos/subst/video/...  1999  tt0177789   \n",
       "178686                    http://www.talentedmrripley.com  1999  tt0134119   \n",
       "\n",
       "        imdbRating imdbVotes  \n",
       "178682         5.9   106,665  \n",
       "178683         6.8   103,302  \n",
       "178684         7.4   110,566  \n",
       "178685         7.3   132,448  \n",
       "178686         7.4   151,938  "
      ]
     },
     "execution_count": 11,
     "metadata": {},
     "output_type": "execute_result"
    }
   ],
   "source": [
    "import pandas as pd\n",
    "\n",
    "df = pd.read_csv('./Movie_Movies.csv')\n",
    "df.tail()"
   ]
  },
  {
   "cell_type": "code",
   "execution_count": 8,
   "metadata": {},
   "outputs": [
    {
     "data": {
      "text/html": [
       "<div>\n",
       "<style scoped>\n",
       "    .dataframe tbody tr th:only-of-type {\n",
       "        vertical-align: middle;\n",
       "    }\n",
       "\n",
       "    .dataframe tbody tr th {\n",
       "        vertical-align: top;\n",
       "    }\n",
       "\n",
       "    .dataframe thead th {\n",
       "        text-align: right;\n",
       "    }\n",
       "</style>\n",
       "<table border=\"1\" class=\"dataframe\">\n",
       "  <thead>\n",
       "    <tr style=\"text-align: right;\">\n",
       "      <th></th>\n",
       "      <th>Awards</th>\n",
       "      <th>Country</th>\n",
       "      <th>DVD</th>\n",
       "      <th>Director</th>\n",
       "      <th>Language</th>\n",
       "      <th>Plot</th>\n",
       "      <th>Poster</th>\n",
       "      <th>Production</th>\n",
       "      <th>Rated</th>\n",
       "      <th>Released</th>\n",
       "      <th>Runtime</th>\n",
       "      <th>Title</th>\n",
       "      <th>Type</th>\n",
       "      <th>Website</th>\n",
       "      <th>Year</th>\n",
       "      <th>imdbID</th>\n",
       "      <th>imdbVotes</th>\n",
       "    </tr>\n",
       "  </thead>\n",
       "  <tbody>\n",
       "    <tr>\n",
       "      <th>count</th>\n",
       "      <td>20340</td>\n",
       "      <td>165998</td>\n",
       "      <td>15949</td>\n",
       "      <td>151353</td>\n",
       "      <td>153196</td>\n",
       "      <td>97476</td>\n",
       "      <td>48414</td>\n",
       "      <td>16446</td>\n",
       "      <td>23906</td>\n",
       "      <td>116974</td>\n",
       "      <td>119497</td>\n",
       "      <td>178686</td>\n",
       "      <td>178686</td>\n",
       "      <td>6747</td>\n",
       "      <td>178686</td>\n",
       "      <td>178686</td>\n",
       "      <td>62029</td>\n",
       "    </tr>\n",
       "    <tr>\n",
       "      <th>unique</th>\n",
       "      <td>1946</td>\n",
       "      <td>3799</td>\n",
       "      <td>2586</td>\n",
       "      <td>92410</td>\n",
       "      <td>2519</td>\n",
       "      <td>97166</td>\n",
       "      <td>48209</td>\n",
       "      <td>4815</td>\n",
       "      <td>80</td>\n",
       "      <td>25146</td>\n",
       "      <td>535</td>\n",
       "      <td>158218</td>\n",
       "      <td>2</td>\n",
       "      <td>6240</td>\n",
       "      <td>265</td>\n",
       "      <td>178686</td>\n",
       "      <td>8538</td>\n",
       "    </tr>\n",
       "    <tr>\n",
       "      <th>top</th>\n",
       "      <td>1 nomination.</td>\n",
       "      <td>USA</td>\n",
       "      <td>29 Mar 2005</td>\n",
       "      <td>Jim Powers</td>\n",
       "      <td>English</td>\n",
       "      <td>Scenes of the coronation ceremonies of King Ed...</td>\n",
       "      <td>http://ia.media-imdb.com/images/M/MV5BMTI4NDcz...</td>\n",
       "      <td>Paramount Pictures</td>\n",
       "      <td>R</td>\n",
       "      <td>01 May 2015</td>\n",
       "      <td>90 min</td>\n",
       "      <td>Alone</td>\n",
       "      <td>movie</td>\n",
       "      <td>http://www.phase4films.com/</td>\n",
       "      <td>2015</td>\n",
       "      <td>tt2042447</td>\n",
       "      <td>5</td>\n",
       "    </tr>\n",
       "    <tr>\n",
       "      <th>freq</th>\n",
       "      <td>4134</td>\n",
       "      <td>93426</td>\n",
       "      <td>82</td>\n",
       "      <td>151</td>\n",
       "      <td>117809</td>\n",
       "      <td>12</td>\n",
       "      <td>8</td>\n",
       "      <td>414</td>\n",
       "      <td>5115</td>\n",
       "      <td>173</td>\n",
       "      <td>4391</td>\n",
       "      <td>84</td>\n",
       "      <td>178665</td>\n",
       "      <td>26</td>\n",
       "      <td>10699</td>\n",
       "      <td>1</td>\n",
       "      <td>3143</td>\n",
       "    </tr>\n",
       "  </tbody>\n",
       "</table>\n",
       "</div>"
      ],
      "text/plain": [
       "               Awards Country          DVD    Director Language  \\\n",
       "count           20340  165998        15949      151353   153196   \n",
       "unique           1946    3799         2586       92410     2519   \n",
       "top     1 nomination.     USA  29 Mar 2005  Jim Powers  English   \n",
       "freq             4134   93426           82         151   117809   \n",
       "\n",
       "                                                     Plot  \\\n",
       "count                                               97476   \n",
       "unique                                              97166   \n",
       "top     Scenes of the coronation ceremonies of King Ed...   \n",
       "freq                                                   12   \n",
       "\n",
       "                                                   Poster          Production  \\\n",
       "count                                               48414               16446   \n",
       "unique                                              48209                4815   \n",
       "top     http://ia.media-imdb.com/images/M/MV5BMTI4NDcz...  Paramount Pictures   \n",
       "freq                                                    8                 414   \n",
       "\n",
       "        Rated     Released Runtime   Title    Type  \\\n",
       "count   23906       116974  119497  178686  178686   \n",
       "unique     80        25146     535  158218       2   \n",
       "top         R  01 May 2015  90 min   Alone   movie   \n",
       "freq     5115          173    4391      84  178665   \n",
       "\n",
       "                            Website    Year     imdbID imdbVotes  \n",
       "count                          6747  178686     178686     62029  \n",
       "unique                         6240     265     178686      8538  \n",
       "top     http://www.phase4films.com/    2015  tt2042447         5  \n",
       "freq                             26   10699          1      3143  "
      ]
     },
     "execution_count": 8,
     "metadata": {},
     "output_type": "execute_result"
    }
   ],
   "source": [
    "df.describe(include=['O'])"
   ]
  },
  {
   "cell_type": "code",
   "execution_count": 9,
   "metadata": {},
   "outputs": [
    {
     "data": {
      "text/html": [
       "<div>\n",
       "<style scoped>\n",
       "    .dataframe tbody tr th:only-of-type {\n",
       "        vertical-align: middle;\n",
       "    }\n",
       "\n",
       "    .dataframe tbody tr th {\n",
       "        vertical-align: top;\n",
       "    }\n",
       "\n",
       "    .dataframe thead th {\n",
       "        text-align: right;\n",
       "    }\n",
       "</style>\n",
       "<table border=\"1\" class=\"dataframe\">\n",
       "  <thead>\n",
       "    <tr style=\"text-align: right;\">\n",
       "      <th></th>\n",
       "      <th>imdbRating</th>\n",
       "    </tr>\n",
       "  </thead>\n",
       "  <tbody>\n",
       "    <tr>\n",
       "      <th>imdbRating</th>\n",
       "      <td>1.0</td>\n",
       "    </tr>\n",
       "  </tbody>\n",
       "</table>\n",
       "</div>"
      ],
      "text/plain": [
       "            imdbRating\n",
       "imdbRating         1.0"
      ]
     },
     "execution_count": 9,
     "metadata": {},
     "output_type": "execute_result"
    }
   ],
   "source": []
  },
  {
   "cell_type": "code",
   "execution_count": 28,
   "metadata": {},
   "outputs": [
    {
     "data": {
      "text/html": [
       "<div>\n",
       "<style scoped>\n",
       "    .dataframe tbody tr th:only-of-type {\n",
       "        vertical-align: middle;\n",
       "    }\n",
       "\n",
       "    .dataframe tbody tr th {\n",
       "        vertical-align: top;\n",
       "    }\n",
       "\n",
       "    .dataframe thead th {\n",
       "        text-align: right;\n",
       "    }\n",
       "</style>\n",
       "<table border=\"1\" class=\"dataframe\">\n",
       "  <thead>\n",
       "    <tr style=\"text-align: right;\">\n",
       "      <th></th>\n",
       "      <th>imdbRating</th>\n",
       "    </tr>\n",
       "  </thead>\n",
       "  <tbody>\n",
       "    <tr>\n",
       "      <th>imdbRating</th>\n",
       "      <td>1.0</td>\n",
       "    </tr>\n",
       "  </tbody>\n",
       "</table>\n",
       "</div>"
      ],
      "text/plain": [
       "            imdbRating\n",
       "imdbRating         1.0"
      ]
     },
     "execution_count": 28,
     "metadata": {},
     "output_type": "execute_result"
    }
   ],
   "source": [
    "data_set = df.loc[:,['imdbVotes','imdbRating']]\n",
    "data_set.corr()"
   ]
  },
  {
   "cell_type": "code",
   "execution_count": 48,
   "metadata": {},
   "outputs": [
    {
     "name": "stdout",
     "output_type": "stream",
     "text": [
      "<class 'pandas.core.frame.DataFrame'>\n",
      "Int64Index: 52672 entries, 9 to 178524\n",
      "Data columns (total 2 columns):\n",
      "imdbVotes     52672 non-null float64\n",
      "imdbRating    52672 non-null float64\n",
      "dtypes: float64(2)\n",
      "memory usage: 1.2 MB\n"
     ]
    },
    {
     "name": "stderr",
     "output_type": "stream",
     "text": [
      "/home/shankar/.local/lib/python3.7/site-packages/ipykernel_launcher.py:4: FutureWarning: convert_objects is deprecated.  To re-infer data dtypes for object columns, use DataFrame.infer_objects()\n",
      "For all other conversions use the data-type specific converters pd.to_datetime, pd.to_timedelta and pd.to_numeric.\n",
      "  after removing the cwd from sys.path.\n"
     ]
    },
    {
     "data": {
      "text/html": [
       "<div>\n",
       "<style scoped>\n",
       "    .dataframe tbody tr th:only-of-type {\n",
       "        vertical-align: middle;\n",
       "    }\n",
       "\n",
       "    .dataframe tbody tr th {\n",
       "        vertical-align: top;\n",
       "    }\n",
       "\n",
       "    .dataframe thead th {\n",
       "        text-align: right;\n",
       "    }\n",
       "</style>\n",
       "<table border=\"1\" class=\"dataframe\">\n",
       "  <thead>\n",
       "    <tr style=\"text-align: right;\">\n",
       "      <th></th>\n",
       "      <th>imdbVotes</th>\n",
       "      <th>imdbRating</th>\n",
       "    </tr>\n",
       "  </thead>\n",
       "  <tbody>\n",
       "    <tr>\n",
       "      <th>imdbVotes</th>\n",
       "      <td>1.000000</td>\n",
       "      <td>-0.109241</td>\n",
       "    </tr>\n",
       "    <tr>\n",
       "      <th>imdbRating</th>\n",
       "      <td>-0.109241</td>\n",
       "      <td>1.000000</td>\n",
       "    </tr>\n",
       "  </tbody>\n",
       "</table>\n",
       "</div>"
      ],
      "text/plain": [
       "            imdbVotes  imdbRating\n",
       "imdbVotes    1.000000   -0.109241\n",
       "imdbRating  -0.109241    1.000000"
      ]
     },
     "execution_count": 48,
     "metadata": {},
     "output_type": "execute_result"
    }
   ],
   "source": [
    "import math\n",
    "data_set = data_set.dropna()\n",
    "data_set_clean.head()\n",
    "data_set = data_set.convert_objects(convert_numeric=True)\n",
    "data_set.info()\n",
    "data_set.corr()"
   ]
  },
  {
   "cell_type": "code",
   "execution_count": 49,
   "metadata": {},
   "outputs": [
    {
     "data": {
      "text/plain": [
       "<matplotlib.axes._subplots.AxesSubplot at 0x7f83a59cd978>"
      ]
     },
     "execution_count": 49,
     "metadata": {},
     "output_type": "execute_result"
    },
    {
     "data": {
      "image/png": "[encoded data removed]",
      "text/plain": [
       "<Figure size 432x288 with 1 Axes>"
      ]
     },
     "metadata": {
      "needs_background": "light"
     },
     "output_type": "display_data"
    }
   ],
   "source": [
    "import seaborn as sns\n",
    "import numpy as np\n",
    "sns.regplot(x=data_set[\"imdbVotes\"], y=data_set[\"imdbRating\"])"
   ]
  },
  {
   "cell_type": "code",
   "execution_count": 50,
   "metadata": {},
   "outputs": [
    {
     "name": "stdout",
     "output_type": "stream",
     "text": [
      "[1.9, 1.9, 2.1, 2.0, 1.2, 1.8, 1.9, 1.9, 1.4, 1.0, 1.3, 1.6, 1.4, 2.2, 1.9, 1.8, 1.8, 2.1, 1.2, 1.0, 1.0, 2.1, 1.6, 2.1, 1.0, 2.2, 2.0, 2.1, 1.3, 1.9, 1.0, 2.0, 1.4, 2.2, 1.9, 1.4, 1.2, 1.9, 2.2, 1.6, 1.6, 1.3, 2.1, 1.8, 1.4, 1.2, 2.1, 2.1, 1.5, 1.8, 1.9, 1.0, 2.2, 1.5, 1.8, 2.0, 2.1, 2.2, 2.2, 2.0, 2.2, 1.0, 1.3, 1.2, 2.1, 2.2, 2.2, 2.2, 1.2, 2.0, 1.9, 1.9, 1.9, 1.4, 2.2, 1.9, 1.4, 2.0, 1.5, 1.7, 2.2, 2.2, 2.2, 1.0, 2.0, 2.1, 1.0, 1.0, 2.2, 2.1, 1.1, 2.2, 1.3, 2.0, 1.4, 1.6, 1.8, 1.0, 2.1, 1.9, 1.6, 2.0, 1.0, 1.9, 1.8, 2.0, 2.1, 2.2, 2.1, 2.0, 2.0, 1.9, 2.1, 2.1, 2.2, 2.1, 2.1, 1.5, 1.8, 1.8, 1.5, 2.2, 2.0, 1.7, 2.1, 2.1, 2.0, 1.7, 1.8, 1.9, 1.5, 1.5, 2.2, 1.9, 1.4, 2.2, 1.7, 2.0, 1.9, 1.0, 1.4, 2.0, 1.4, 2.2, 1.9, 2.2, 2.1, 1.8, 2.2, 1.5, 2.1, 2.1, 1.7, 1.7, 2.0, 1.7, 1.8, 2.0, 1.1, 2.1, 1.2, 2.1, 1.0, 1.0, 1.0, 2.1, 1.0, 2.1, 2.0, 1.6, 1.2, 2.0, 1.6, 2.0, 1.0, 1.8, 1.3, 1.6, 1.3, 2.1, 2.2, 2.0, 2.2, 2.2, 1.9, 2.2, 1.6, 1.8, 1.5, 1.0, 1.9, 1.6, 2.1, 2.2, 1.5, 1.3, 1.7, 2.2, 1.7, 2.2, 2.2, 2.0, 1.7, 1.9, 1.6, 2.2, 2.0, 1.7, 1.4, 1.2, 1.9, 1.1, 1.0, 1.1, 1.6, 2.1, 1.3, 1.5, 1.3, 1.4, 1.7, 1.2, 1.2, 1.6, 1.2, 1.9, 1.0, 1.5, 1.0, 1.6, 1.3, 2.2, 1.5, 1.5, 2.2, 2.1, 1.5, 2.0, 2.2, 1.1, 2.2, 2.1, 2.0, 1.4, 2.1, 1.8, 1.6, 1.5, 1.8, 1.6, 2.2, 1.0, 2.2, 1.7, 1.3, 1.1, 1.0, 1.7, 1.7, 2.2, 1.8, 2.0, 1.6, 1.3, 2.1, 1.4, 1.9, 2.1, 2.0, 2.2, 2.2, 1.0, 2.0, 2.1, 2.0, 1.0, 1.9, 1.4, 2.2, 1.3, 2.0, 2.2, 2.0, 2.2, 1.6, 2.2, 1.8, 2.0, 1.7, 1.8, 1.7, 2.2, 1.3, 1.7, 2.1, 1.6, 1.0, 2.2, 1.6, 2.2, 1.7, 1.4, 2.0, 2.0, 1.4, 2.1, 2.0, 1.0, 1.6, 1.0, 1.1, 1.4, 1.5, 2.2, 1.9, 1.9, 1.6, 2.0, 1.4, 1.7, 1.8, 1.7, 1.2, 2.1, 2.2, 1.6, 1.9, 2.2, 1.6, 1.9, 2.0, 1.8, 2.2, 2.0, 1.9, 2.2, 1.2, 1.8, 2.0, 1.9, 2.1, 2.0, 2.0, 2.1, 1.0, 1.6, 1.8, 1.8, 1.8, 2.1, 1.1, 1.4, 1.9, 2.2]\n"
     ]
    }
   ],
   "source": [
    "outliers=[]\n",
    "def detect_outlier(data_1):\n",
    "    \n",
    "    threshold=3\n",
    "    mean_1 = np.mean(data_1)\n",
    "    std_1 =np.std(data_1)\n",
    "    \n",
    "    \n",
    "    for y in data_1:\n",
    "        z_score= (y - mean_1)/std_1 \n",
    "        if np.abs(z_score) > threshold:\n",
    "            outliers.append(y)\n",
    "    return outliers\n",
    "outlier_data = detect_outlier(data_set[\"imdbRating\"])\n",
    "print (outlier_data)"
   ]
  },
  {
   "cell_type": "code",
   "execution_count": 51,
   "metadata": {},
   "outputs": [],
   "source": [
    "data_set_clean = data_set[data_set[\"imdbRating\"]>2.3]"
   ]
  },
  {
   "cell_type": "code",
   "execution_count": 52,
   "metadata": {},
   "outputs": [
    {
     "data": {
      "text/plain": [
       "<matplotlib.axes._subplots.AxesSubplot at 0x7f83a546f1d0>"
      ]
     },
     "execution_count": 52,
     "metadata": {},
     "output_type": "execute_result"
    },
    {
     "data": {
      "image/png": "[encoded data removed]",
      "text/plain": [
       "<Figure size 432x288 with 1 Axes>"
      ]
     },
     "metadata": {
      "needs_background": "light"
     },
     "output_type": "display_data"
    }
   ],
   "source": [
    "sns.regplot(x=data_set_clean[\"imdbVotes\"], y=data_set_clean[\"imdbRating\"])"
   ]
  },
  {
   "cell_type": "code",
   "execution_count": 53,
   "metadata": {},
   "outputs": [
    {
     "data": {
      "text/html": [
       "<div>\n",
       "<style scoped>\n",
       "    .dataframe tbody tr th:only-of-type {\n",
       "        vertical-align: middle;\n",
       "    }\n",
       "\n",
       "    .dataframe tbody tr th {\n",
       "        vertical-align: top;\n",
       "    }\n",
       "\n",
       "    .dataframe thead th {\n",
       "        text-align: right;\n",
       "    }\n",
       "</style>\n",
       "<table border=\"1\" class=\"dataframe\">\n",
       "  <thead>\n",
       "    <tr style=\"text-align: right;\">\n",
       "      <th></th>\n",
       "      <th>imdbVotes</th>\n",
       "    </tr>\n",
       "  </thead>\n",
       "  <tbody>\n",
       "    <tr>\n",
       "      <th>9</th>\n",
       "      <td>35.0</td>\n",
       "    </tr>\n",
       "    <tr>\n",
       "      <th>15</th>\n",
       "      <td>345.0</td>\n",
       "    </tr>\n",
       "    <tr>\n",
       "      <th>16</th>\n",
       "      <td>11.0</td>\n",
       "    </tr>\n",
       "    <tr>\n",
       "      <th>18</th>\n",
       "      <td>43.0</td>\n",
       "    </tr>\n",
       "    <tr>\n",
       "      <th>21</th>\n",
       "      <td>813.0</td>\n",
       "    </tr>\n",
       "  </tbody>\n",
       "</table>\n",
       "</div>"
      ],
      "text/plain": [
       "    imdbVotes\n",
       "9        35.0\n",
       "15      345.0\n",
       "16       11.0\n",
       "18       43.0\n",
       "21      813.0"
      ]
     },
     "execution_count": 53,
     "metadata": {},
     "output_type": "execute_result"
    }
   ],
   "source": [
    "y= data_set_clean.loc[:,['imdbRating']]\n",
    "X= data_set_clean.loc[:,['imdbVotes']]\n",
    "X.head()"
   ]
  },
  {
   "cell_type": "code",
   "execution_count": 45,
   "metadata": {},
   "outputs": [
    {
     "data": {
      "text/html": [
       "<div>\n",
       "<style scoped>\n",
       "    .dataframe tbody tr th:only-of-type {\n",
       "        vertical-align: middle;\n",
       "    }\n",
       "\n",
       "    .dataframe tbody tr th {\n",
       "        vertical-align: top;\n",
       "    }\n",
       "\n",
       "    .dataframe thead th {\n",
       "        text-align: right;\n",
       "    }\n",
       "</style>\n",
       "<table border=\"1\" class=\"dataframe\">\n",
       "  <thead>\n",
       "    <tr style=\"text-align: right;\">\n",
       "      <th></th>\n",
       "      <th>imdbRating</th>\n",
       "    </tr>\n",
       "  </thead>\n",
       "  <tbody>\n",
       "    <tr>\n",
       "      <th>9</th>\n",
       "      <td>6.9</td>\n",
       "    </tr>\n",
       "    <tr>\n",
       "      <th>15</th>\n",
       "      <td>2.4</td>\n",
       "    </tr>\n",
       "    <tr>\n",
       "      <th>16</th>\n",
       "      <td>6.3</td>\n",
       "    </tr>\n",
       "    <tr>\n",
       "      <th>18</th>\n",
       "      <td>5.5</td>\n",
       "    </tr>\n",
       "    <tr>\n",
       "      <th>21</th>\n",
       "      <td>5.0</td>\n",
       "    </tr>\n",
       "  </tbody>\n",
       "</table>\n",
       "</div>"
      ],
      "text/plain": [
       "    imdbRating\n",
       "9          6.9\n",
       "15         2.4\n",
       "16         6.3\n",
       "18         5.5\n",
       "21         5.0"
      ]
     },
     "execution_count": 45,
     "metadata": {},
     "output_type": "execute_result"
    }
   ],
   "source": [
    "y.head()"
   ]
  },
  {
   "cell_type": "code",
   "execution_count": 54,
   "metadata": {},
   "outputs": [],
   "source": [
    "from sklearn.model_selection import train_test_split\n",
    "X_train, X_test, y_train, y_test = train_test_split(X, y, test_size = 0.2, random_state = 0)"
   ]
  },
  {
   "cell_type": "code",
   "execution_count": 55,
   "metadata": {},
   "outputs": [
    {
     "data": {
      "text/plain": [
       "LinearRegression(copy_X=True, fit_intercept=True, n_jobs=None,\n",
       "         normalize=False)"
      ]
     },
     "execution_count": 55,
     "metadata": {},
     "output_type": "execute_result"
    }
   ],
   "source": [
    "from sklearn.linear_model import LinearRegression\n",
    "regressor =LinearRegression()\n",
    "regressor.fit(X_train, y_train)"
   ]
  },
  {
   "cell_type": "code",
   "execution_count": 56,
   "metadata": {},
   "outputs": [
    {
     "data": {
      "text/plain": [
       "array([[-0.00085233]])"
      ]
     },
     "execution_count": 56,
     "metadata": {},
     "output_type": "execute_result"
    }
   ],
   "source": [
    "regressor.coef_"
   ]
  },
  {
   "cell_type": "code",
   "execution_count": 57,
   "metadata": {},
   "outputs": [
    {
     "data": {
      "text/plain": [
       "array([6.54705512])"
      ]
     },
     "execution_count": 57,
     "metadata": {},
     "output_type": "execute_result"
    }
   ],
   "source": [
    "regressor.intercept_"
   ]
  },
  {
   "cell_type": "code",
   "execution_count": 58,
   "metadata": {},
   "outputs": [],
   "source": [
    "y_pred = regressor.predict(X_test)"
   ]
  },
  {
   "cell_type": "code",
   "execution_count": 59,
   "metadata": {},
   "outputs": [
    {
     "data": {
      "text/plain": [
       "array([[5.99815325],\n",
       "       [6.53938413],\n",
       "       [6.52404215],\n",
       "       ...,\n",
       "       [6.54279346],\n",
       "       [6.50699551],\n",
       "       [5.79274121]])"
      ]
     },
     "execution_count": 59,
     "metadata": {},
     "output_type": "execute_result"
    }
   ],
   "source": [
    "y_pred"
   ]
  },
  {
   "cell_type": "code",
   "execution_count": 62,
   "metadata": {},
   "outputs": [
    {
     "data": {
      "text/plain": [
       "0.011869886874257718"
      ]
     },
     "execution_count": 62,
     "metadata": {},
     "output_type": "execute_result"
    }
   ],
   "source": [
    "regressor.score(X,y)"
   ]
  },
  {
   "cell_type": "code",
   "execution_count": 64,
   "metadata": {},
   "outputs": [
    {
     "name": "stdout",
     "output_type": "stream",
     "text": [
      "1.7131090835372873\n"
     ]
    }
   ],
   "source": [
    "from sklearn import metrics\n",
    "import math\n",
    "print(metrics.mean_squared_error(y_test, y_pred))"
   ]
  },
  {
   "cell_type": "code",
   "execution_count": null,
   "metadata": {},
   "outputs": [],
   "source": []
  },
  {
   "cell_type": "code",
   "execution_count": null,
   "metadata": {},
   "outputs": [],
   "source": []
  }
 ],
 "metadata": {
  "kernelspec": {
   "display_name": "Python 3",
   "language": "python",
   "name": "python3"
  },
  "language_info": {
   "codemirror_mode": {
    "name": "ipython",
    "version": 3
   },
   "file_extension": ".py",
   "mimetype": "text/x-python",
   "name": "python",
   "nbconvert_exporter": "python",
   "pygments_lexer": "ipython3",
   "version": "3.7.2rc1"
  }
 },
 "nbformat": 4,
 "nbformat_minor": 2
}
